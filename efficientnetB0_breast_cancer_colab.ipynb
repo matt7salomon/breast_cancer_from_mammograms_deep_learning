{
 "cells": [
  {
   "cell_type": "markdown",
   "metadata": {
    "id": "XEXex9KW-sZG"
   },
   "source": [
    "# EfficientNet Implementation   - EfficientNet- B0\n",
    "\n",
    "## Training a Custom  Model from scratch"
   ]
  },
  {
   "cell_type": "markdown",
   "metadata": {
    "id": "9bgVWiAN-sZH"
   },
   "source": [
    "![image.png](attachment:image.png)"
   ]
  },
  {
   "cell_type": "markdown",
   "metadata": {
    "id": "c_ZNhPk1-sZH"
   },
   "source": [
    "# Data Pre Processing"
   ]
  },
  {
   "cell_type": "code",
   "execution_count": 1,
   "metadata": {
    "id": "yzghaEbV-sZH"
   },
   "outputs": [],
   "source": [
    "# %pip install opencv-python\n",
    "# %pip cache purge\n",
    "# %pip install --upgrade tensorflow-macos tensorflow-metal"
   ]
  },
  {
   "cell_type": "code",
   "execution_count": 2,
   "metadata": {
    "id": "uGNLK1jj-sZI"
   },
   "outputs": [],
   "source": [
    "# # %pip install tensorflow-macos==2.10 tensorflow-metal==0.6\n",
    "# !conda install -c apple tensorflow-deps==2.9.0\n",
    "# !python -m pip install tensorflow-macos==2.9.0\n",
    "# !python -m pip install tensorflow-metal==0.5.0\n",
    "# %pip install tensorflow\n",
    "# %pip install tf-keras\n",
    "# %pip install ml_dtypes==0.2.0\n",
    "# %pip install numpy"
   ]
  },
  {
   "cell_type": "code",
   "execution_count": 3,
   "metadata": {
    "id": "e7KkgDXI-sZI"
   },
   "outputs": [],
   "source": [
    "# %pip install tensorflow-macos"
   ]
  },
  {
   "cell_type": "code",
   "execution_count": 4,
   "metadata": {
    "id": "PXcC33Ew-sZI"
   },
   "outputs": [],
   "source": [
    "# %pip install numpy==1.23.5\n",
    "# %pip install --upgrade accelerate"
   ]
  },
  {
   "cell_type": "code",
   "execution_count": 5,
   "metadata": {
    "id": "dkSgY-aH-sZI"
   },
   "outputs": [],
   "source": [
    "#%pip uninstall numpy\n",
    "# %pip show numpy"
   ]
  },
  {
   "cell_type": "code",
   "execution_count": 6,
   "metadata": {
    "id": "U2ruw_ER-sZI"
   },
   "outputs": [],
   "source": [
    "# %pip install numpy --upgrade --ignore-installed"
   ]
  },
  {
   "cell_type": "code",
   "execution_count": 7,
   "metadata": {
    "colab": {
     "base_uri": "https://localhost:8080/"
    },
    "id": "qrPbVLRR_C1g",
    "outputId": "f9ce1a34-6ff7-4874-e320-e4c616514bc2"
   },
   "outputs": [
    {
     "name": "stdout",
     "output_type": "stream",
     "text": [
      "Mounted at /content/drive\n"
     ]
    }
   ],
   "source": [
    "from google.colab import drive\n",
    "drive.mount('/content/drive')"
   ]
  },
  {
   "cell_type": "code",
   "execution_count": 8,
   "metadata": {
    "colab": {
     "base_uri": "https://localhost:8080/"
    },
    "id": "KqeoZhAG-sZI",
    "outputId": "dc796684-4ee2-46e1-8d2d-adfacb16538d"
   },
   "outputs": [
    {
     "name": "stdout",
     "output_type": "stream",
     "text": [
      "['Benign', 'Malignant']\n",
      "Types of classes labels found:  2\n"
     ]
    }
   ],
   "source": [
    "import numpy as np\n",
    "import tensorflow as tf\n",
    "\n",
    "import numpy as np\n",
    "import pandas as pd\n",
    "import matplotlib.pyplot as plt\n",
    "import os\n",
    "\n",
    "\n",
    "dataset_path = os.listdir('/content/drive/MyDrive/PublicFolder/DataSet/train/')\n",
    "\n",
    "print (dataset_path)  #what kinds of classes are in this dataset\n",
    "dataset_path = [ 'Malignant', 'Benign']\n",
    "print(\"Types of classes labels found: \", len(dataset_path))"
   ]
  },
  {
   "cell_type": "code",
   "execution_count": 9,
   "metadata": {
    "id": "0QyMUN2j-sZJ"
   },
   "outputs": [],
   "source": [
    "class_labels = []\n",
    "\n",
    "for item in dataset_path:\n",
    " # Get all the file names\n",
    " all_classes = os.listdir('/content/drive/MyDrive/PublicFolder/DataSet/train' + '/' +item)\n",
    " #print(all_classes)\n",
    "\n",
    " # Add them to the list\n",
    " for room in all_classes:\n",
    "    class_labels.append((item, str('dataset_path' + '/' +item) + '/' + room))\n",
    "    #print(class_labels[:5])"
   ]
  },
  {
   "cell_type": "code",
   "execution_count": 10,
   "metadata": {
    "colab": {
     "base_uri": "https://localhost:8080/"
    },
    "id": "G05lVS9SAUyF",
    "outputId": "7dfdcd65-a63c-4342-8ca7-f48a47f64a92"
   },
   "outputs": [
    {
     "data": {
      "text/plain": [
       "3816"
      ]
     },
     "execution_count": 10,
     "metadata": {},
     "output_type": "execute_result"
    }
   ],
   "source": [
    "len(class_labels)"
   ]
  },
  {
   "cell_type": "code",
   "execution_count": 11,
   "metadata": {
    "colab": {
     "base_uri": "https://localhost:8080/"
    },
    "id": "VbYmuyfj-sZJ",
    "outputId": "6331f942-11c5-4eeb-951c-4265d7f54c1c"
   },
   "outputs": [
    {
     "name": "stdout",
     "output_type": "stream",
     "text": [
      "      Labels                                     image\n",
      "0  Malignant  dataset_path/Malignant/24065289 (40).png\n",
      "1  Malignant   dataset_path/Malignant/22427751 (7).png\n",
      "2  Malignant   dataset_path/Malignant/22614266 (4).png\n",
      "3  Malignant   dataset_path/Malignant/22614522 (6).png\n",
      "4  Malignant  dataset_path/Malignant/53582683 (67).png\n",
      "      Labels                                  image\n",
      "3811  Benign  dataset_path/Benign/22580680 (60).png\n",
      "3812  Benign  dataset_path/Benign/22670620 (10).png\n",
      "3813  Benign  dataset_path/Benign/22580680 (48).png\n",
      "3814  Benign       dataset_path/Benign/53586869.png\n",
      "3815  Benign   dataset_path/Benign/22580732 (2).png\n"
     ]
    }
   ],
   "source": [
    "\n",
    "# Build a dataframe\n",
    "df = pd.DataFrame(data=class_labels, columns=['Labels', 'image'])\n",
    "print(df.head())\n",
    "print(df.tail())"
   ]
  },
  {
   "cell_type": "code",
   "execution_count": 12,
   "metadata": {
    "colab": {
     "base_uri": "https://localhost:8080/"
    },
    "id": "1z5xMtD_-sZJ",
    "outputId": "09a0209e-1f26-49c9-90bf-a7fd7b613e36"
   },
   "outputs": [
    {
     "name": "stdout",
     "output_type": "stream",
     "text": [
      "Total number of images in the dataset:  3816\n",
      "Labels\n",
      "Malignant    2556\n",
      "Benign       1260\n",
      "Name: count, dtype: int64\n"
     ]
    }
   ],
   "source": [
    "# Let's check how many samples for each category are present\n",
    "print(\"Total number of images in the dataset: \", len(df))\n",
    "\n",
    "label_count = df['Labels'].value_counts()\n",
    "print(label_count)"
   ]
  },
  {
   "cell_type": "code",
   "execution_count": 13,
   "metadata": {
    "id": "LbnnNMxV-sZJ"
   },
   "outputs": [],
   "source": [
    "import cv2\n",
    "path = '/content/drive/MyDrive/PublicFolder/DataSet/train/'\n",
    "#dataset_path = os.listdir(path)\n",
    "\n",
    "im_size = 224\n",
    "\n",
    "images = []\n",
    "labels = []\n",
    "\n",
    "for i in dataset_path:\n",
    "    data_path = path + str(i)\n",
    "    filenames = [i for i in os.listdir(data_path) ]\n",
    "\n",
    "    for f in filenames:\n",
    "        img = cv2.imread(data_path + '/' + f)\n",
    "        img = cv2.resize(img, (im_size, im_size))\n",
    "        images.append(img)\n",
    "        labels.append(i)"
   ]
  },
  {
   "cell_type": "code",
   "execution_count": 14,
   "metadata": {
    "colab": {
     "base_uri": "https://localhost:8080/"
    },
    "id": "No8vzzyb-sZJ",
    "outputId": "c8070633-ffc9-4871-8784-dbb342834fc8"
   },
   "outputs": [
    {
     "data": {
      "text/plain": [
       "(3816, 224, 224, 3)"
      ]
     },
     "execution_count": 14,
     "metadata": {},
     "output_type": "execute_result"
    }
   ],
   "source": [
    "\n",
    "#This model takes input images of shape (224, 224, 3), and the input data should range [0, 255].\n",
    "\n",
    "images = np.array(images)\n",
    "\n",
    "images = images.astype('float32') / 255.0\n",
    "images.shape"
   ]
  },
  {
   "cell_type": "code",
   "execution_count": 15,
   "metadata": {
    "colab": {
     "base_uri": "https://localhost:8080/"
    },
    "id": "lYUHR5YfAC98",
    "outputId": "0ace761e-1822-4264-c555-32e01209b7c0"
   },
   "outputs": [
    {
     "data": {
      "text/plain": [
       "(3816, 2)"
      ]
     },
     "execution_count": 15,
     "metadata": {},
     "output_type": "execute_result"
    }
   ],
   "source": [
    "df.shape"
   ]
  },
  {
   "cell_type": "code",
   "execution_count": 16,
   "metadata": {
    "colab": {
     "base_uri": "https://localhost:8080/"
    },
    "id": "qMSxt0hb-sZJ",
    "outputId": "9b95f495-c57b-4fc3-bd6f-de0c54f5c414"
   },
   "outputs": [
    {
     "name": "stdout",
     "output_type": "stream",
     "text": [
      "['Malignant' 'Malignant' 'Malignant' ... 'Benign' 'Benign' 'Benign']\n",
      "[1 1 1 ... 0 0 0]\n"
     ]
    }
   ],
   "source": [
    "from sklearn.preprocessing import LabelEncoder , OneHotEncoder\n",
    "y=df['Labels'].values\n",
    "print(y)\n",
    "\n",
    "y_labelencoder = LabelEncoder()\n",
    "y = y_labelencoder.fit_transform (y)\n",
    "print (y)"
   ]
  },
  {
   "cell_type": "code",
   "execution_count": 17,
   "metadata": {
    "colab": {
     "base_uri": "https://localhost:8080/"
    },
    "id": "gnyeQOVe__0Z",
    "outputId": "65801bc5-ebe6-48b4-b0a4-e7ec43a243ee"
   },
   "outputs": [
    {
     "data": {
      "text/plain": [
       "3816"
      ]
     },
     "execution_count": 17,
     "metadata": {},
     "output_type": "execute_result"
    }
   ],
   "source": [
    "len(y)"
   ]
  },
  {
   "cell_type": "code",
   "execution_count": 18,
   "metadata": {
    "colab": {
     "base_uri": "https://localhost:8080/"
    },
    "id": "PqT39mqY-sZJ",
    "outputId": "dddeb7de-2607-49dd-e8e0-c1a8830e0c02"
   },
   "outputs": [
    {
     "name": "stdout",
     "output_type": "stream",
     "text": [
      "[[0. 1.]\n",
      " [0. 1.]\n",
      " [0. 1.]\n",
      " [0. 1.]\n",
      " [0. 1.]]\n",
      "[[0. 1.]\n",
      " [0. 1.]\n",
      " [0. 1.]\n",
      " ...\n",
      " [1. 0.]\n",
      " [1. 0.]\n",
      " [1. 0.]]\n"
     ]
    }
   ],
   "source": [
    "\n",
    "y=y.reshape(-1,1)\n",
    "\n",
    "from sklearn.compose import ColumnTransformer\n",
    "ct = ColumnTransformer([('my_ohe', OneHotEncoder(), [0])], remainder='passthrough')\n",
    "Y = ct.fit_transform(y) #.toarray()\n",
    "print(Y[:5])\n",
    "print(Y[35:])"
   ]
  },
  {
   "cell_type": "code",
   "execution_count": 19,
   "metadata": {
    "colab": {
     "base_uri": "https://localhost:8080/"
    },
    "id": "hOE57mGz-sZJ",
    "outputId": "af445d0b-b3ee-4aa5-cfdc-5e6dd633d5f3"
   },
   "outputs": [
    {
     "name": "stdout",
     "output_type": "stream",
     "text": [
      "(3625, 224, 224, 3)\n",
      "(3625, 2)\n",
      "(191, 224, 224, 3)\n",
      "(191, 2)\n"
     ]
    }
   ],
   "source": [
    "from sklearn.utils import shuffle\n",
    "from sklearn.model_selection import train_test_split\n",
    "\n",
    "\n",
    "# images, Y = shuffle(images, Y, random_state=1)\n",
    "\n",
    "\n",
    "train_x, test_x, train_y, test_y = train_test_split(images, Y, test_size=0.05, random_state=415)\n",
    "\n",
    "#inpect the shape of the training and testing.\n",
    "print(train_x.shape)\n",
    "print(train_y.shape)\n",
    "print(test_x.shape)\n",
    "print(test_y.shape)\n",
    "\n"
   ]
  },
  {
   "cell_type": "markdown",
   "metadata": {
    "id": "EhiKN7T0-sZJ"
   },
   "source": [
    "\n",
    "# EfficientNet Implementation :\n",
    "\n"
   ]
  },
  {
   "cell_type": "code",
   "execution_count": 20,
   "metadata": {
    "id": "OfaJeUK4-sZJ"
   },
   "outputs": [],
   "source": [
    "from tensorflow.keras import layers\n",
    "from tensorflow.keras.applications import EfficientNetB0\n",
    "from tensorflow.keras.optimizers.legacy import Adam\n",
    "NUM_CLASSES = 2\n",
    "IMG_SIZE = 224\n",
    "size = (IMG_SIZE, IMG_SIZE)\n",
    "\n",
    "\n",
    "inputs = layers.Input(shape=(IMG_SIZE, IMG_SIZE, 3))\n",
    "\n",
    "\n",
    "# Using model without transfer learning\n",
    "\n",
    "outputs = EfficientNetB0(include_top=True, weights=None, classes=NUM_CLASSES)(inputs)"
   ]
  },
  {
   "cell_type": "code",
   "execution_count": 21,
   "metadata": {
    "colab": {
     "base_uri": "https://localhost:8080/",
     "height": 1000
    },
    "id": "X93PFO5j-sZJ",
    "outputId": "b223bce4-62d7-4b42-ecb0-2d6d911bc589"
   },
   "outputs": [
    {
     "data": {
      "text/html": [
       "<pre style=\"white-space:pre;overflow-x:auto;line-height:normal;font-family:Menlo,'DejaVu Sans Mono',consolas,'Courier New',monospace\"><span style=\"font-weight: bold\">Model: \"functional\"</span>\n",
       "</pre>\n"
      ],
      "text/plain": [
       "\u001b[1mModel: \"functional\"\u001b[0m\n"
      ]
     },
     "metadata": {},
     "output_type": "display_data"
    },
    {
     "data": {
      "text/html": [
       "<pre style=\"white-space:pre;overflow-x:auto;line-height:normal;font-family:Menlo,'DejaVu Sans Mono',consolas,'Courier New',monospace\">┏━━━━━━━━━━━━━━━━━━━━━━━━━━━━━━━━━━━━━━┳━━━━━━━━━━━━━━━━━━━━━━━━━━━━━┳━━━━━━━━━━━━━━━━━┓\n",
       "┃<span style=\"font-weight: bold\"> Layer (type)                         </span>┃<span style=\"font-weight: bold\"> Output Shape                </span>┃<span style=\"font-weight: bold\">         Param # </span>┃\n",
       "┡━━━━━━━━━━━━━━━━━━━━━━━━━━━━━━━━━━━━━━╇━━━━━━━━━━━━━━━━━━━━━━━━━━━━━╇━━━━━━━━━━━━━━━━━┩\n",
       "│ input_layer (<span style=\"color: #0087ff; text-decoration-color: #0087ff\">InputLayer</span>)             │ (<span style=\"color: #00d7ff; text-decoration-color: #00d7ff\">None</span>, <span style=\"color: #00af00; text-decoration-color: #00af00\">224</span>, <span style=\"color: #00af00; text-decoration-color: #00af00\">224</span>, <span style=\"color: #00af00; text-decoration-color: #00af00\">3</span>)         │               <span style=\"color: #00af00; text-decoration-color: #00af00\">0</span> │\n",
       "├──────────────────────────────────────┼─────────────────────────────┼─────────────────┤\n",
       "│ efficientnetb0 (<span style=\"color: #0087ff; text-decoration-color: #0087ff\">Functional</span>)          │ (<span style=\"color: #00d7ff; text-decoration-color: #00d7ff\">None</span>, <span style=\"color: #00af00; text-decoration-color: #00af00\">2</span>)                   │       <span style=\"color: #00af00; text-decoration-color: #00af00\">4,052,133</span> │\n",
       "└──────────────────────────────────────┴─────────────────────────────┴─────────────────┘\n",
       "</pre>\n"
      ],
      "text/plain": [
       "┏━━━━━━━━━━━━━━━━━━━━━━━━━━━━━━━━━━━━━━┳━━━━━━━━━━━━━━━━━━━━━━━━━━━━━┳━━━━━━━━━━━━━━━━━┓\n",
       "┃\u001b[1m \u001b[0m\u001b[1mLayer (type)                        \u001b[0m\u001b[1m \u001b[0m┃\u001b[1m \u001b[0m\u001b[1mOutput Shape               \u001b[0m\u001b[1m \u001b[0m┃\u001b[1m \u001b[0m\u001b[1m        Param #\u001b[0m\u001b[1m \u001b[0m┃\n",
       "┡━━━━━━━━━━━━━━━━━━━━━━━━━━━━━━━━━━━━━━╇━━━━━━━━━━━━━━━━━━━━━━━━━━━━━╇━━━━━━━━━━━━━━━━━┩\n",
       "│ input_layer (\u001b[38;5;33mInputLayer\u001b[0m)             │ (\u001b[38;5;45mNone\u001b[0m, \u001b[38;5;34m224\u001b[0m, \u001b[38;5;34m224\u001b[0m, \u001b[38;5;34m3\u001b[0m)         │               \u001b[38;5;34m0\u001b[0m │\n",
       "├──────────────────────────────────────┼─────────────────────────────┼─────────────────┤\n",
       "│ efficientnetb0 (\u001b[38;5;33mFunctional\u001b[0m)          │ (\u001b[38;5;45mNone\u001b[0m, \u001b[38;5;34m2\u001b[0m)                   │       \u001b[38;5;34m4,052,133\u001b[0m │\n",
       "└──────────────────────────────────────┴─────────────────────────────┴─────────────────┘\n"
      ]
     },
     "metadata": {},
     "output_type": "display_data"
    },
    {
     "data": {
      "text/html": [
       "<pre style=\"white-space:pre;overflow-x:auto;line-height:normal;font-family:Menlo,'DejaVu Sans Mono',consolas,'Courier New',monospace\"><span style=\"font-weight: bold\"> Total params: </span><span style=\"color: #00af00; text-decoration-color: #00af00\">4,052,133</span> (15.46 MB)\n",
       "</pre>\n"
      ],
      "text/plain": [
       "\u001b[1m Total params: \u001b[0m\u001b[38;5;34m4,052,133\u001b[0m (15.46 MB)\n"
      ]
     },
     "metadata": {},
     "output_type": "display_data"
    },
    {
     "data": {
      "text/html": [
       "<pre style=\"white-space:pre;overflow-x:auto;line-height:normal;font-family:Menlo,'DejaVu Sans Mono',consolas,'Courier New',monospace\"><span style=\"font-weight: bold\"> Trainable params: </span><span style=\"color: #00af00; text-decoration-color: #00af00\">4,010,110</span> (15.30 MB)\n",
       "</pre>\n"
      ],
      "text/plain": [
       "\u001b[1m Trainable params: \u001b[0m\u001b[38;5;34m4,010,110\u001b[0m (15.30 MB)\n"
      ]
     },
     "metadata": {},
     "output_type": "display_data"
    },
    {
     "data": {
      "text/html": [
       "<pre style=\"white-space:pre;overflow-x:auto;line-height:normal;font-family:Menlo,'DejaVu Sans Mono',consolas,'Courier New',monospace\"><span style=\"font-weight: bold\"> Non-trainable params: </span><span style=\"color: #00af00; text-decoration-color: #00af00\">42,023</span> (164.16 KB)\n",
       "</pre>\n"
      ],
      "text/plain": [
       "\u001b[1m Non-trainable params: \u001b[0m\u001b[38;5;34m42,023\u001b[0m (164.16 KB)\n"
      ]
     },
     "metadata": {},
     "output_type": "display_data"
    },
    {
     "name": "stdout",
     "output_type": "stream",
     "text": [
      "Epoch 1/30\n",
      "114/114 - 154s - 1s/step - accuracy: 0.5997 - loss: 1.4576\n",
      "Epoch 2/30\n",
      "114/114 - 39s - 339ms/step - accuracy: 0.6339 - loss: 0.8476\n",
      "Epoch 3/30\n",
      "114/114 - 20s - 179ms/step - accuracy: 0.6623 - loss: 0.7777\n",
      "Epoch 4/30\n",
      "114/114 - 20s - 179ms/step - accuracy: 0.6646 - loss: 0.7371\n",
      "Epoch 5/30\n",
      "114/114 - 20s - 179ms/step - accuracy: 0.6651 - loss: 0.7209\n",
      "Epoch 6/30\n",
      "114/114 - 20s - 180ms/step - accuracy: 0.6640 - loss: 0.7001\n",
      "Epoch 7/30\n",
      "114/114 - 21s - 182ms/step - accuracy: 0.6657 - loss: 0.6626\n",
      "Epoch 8/30\n",
      "114/114 - 20s - 177ms/step - accuracy: 0.7286 - loss: 0.5951\n",
      "Epoch 9/30\n",
      "114/114 - 21s - 181ms/step - accuracy: 0.7324 - loss: 0.5858\n",
      "Epoch 10/30\n",
      "114/114 - 20s - 179ms/step - accuracy: 0.8047 - loss: 0.4755\n",
      "Epoch 11/30\n",
      "114/114 - 20s - 180ms/step - accuracy: 0.8257 - loss: 0.4177\n",
      "Epoch 12/30\n",
      "114/114 - 20s - 179ms/step - accuracy: 0.8839 - loss: 0.3058\n",
      "Epoch 13/30\n",
      "114/114 - 20s - 180ms/step - accuracy: 0.9079 - loss: 0.2354\n",
      "Epoch 14/30\n",
      "114/114 - 20s - 179ms/step - accuracy: 0.9183 - loss: 0.2021\n",
      "Epoch 15/30\n",
      "114/114 - 21s - 180ms/step - accuracy: 0.9393 - loss: 0.1640\n",
      "Epoch 16/30\n",
      "114/114 - 20s - 179ms/step - accuracy: 0.9230 - loss: 0.2031\n",
      "Epoch 17/30\n",
      "114/114 - 20s - 179ms/step - accuracy: 0.9506 - loss: 0.1437\n",
      "Epoch 18/30\n",
      "114/114 - 20s - 180ms/step - accuracy: 0.9581 - loss: 0.1118\n",
      "Epoch 19/30\n",
      "114/114 - 21s - 182ms/step - accuracy: 0.9633 - loss: 0.1076\n",
      "Epoch 20/30\n",
      "114/114 - 15s - 129ms/step - accuracy: 0.9550 - loss: 0.1264\n",
      "Epoch 21/30\n",
      "114/114 - 20s - 179ms/step - accuracy: 0.9589 - loss: 0.1133\n",
      "Epoch 22/30\n",
      "114/114 - 20s - 179ms/step - accuracy: 0.9708 - loss: 0.0826\n",
      "Epoch 23/30\n",
      "114/114 - 15s - 128ms/step - accuracy: 0.9727 - loss: 0.0775\n",
      "Epoch 24/30\n",
      "114/114 - 20s - 179ms/step - accuracy: 0.9716 - loss: 0.0748\n",
      "Epoch 25/30\n",
      "114/114 - 21s - 180ms/step - accuracy: 0.9732 - loss: 0.0765\n",
      "Epoch 26/30\n",
      "114/114 - 21s - 181ms/step - accuracy: 0.9823 - loss: 0.0456\n",
      "Epoch 27/30\n",
      "114/114 - 20s - 178ms/step - accuracy: 0.9865 - loss: 0.0366\n",
      "Epoch 28/30\n",
      "114/114 - 21s - 180ms/step - accuracy: 0.9752 - loss: 0.0683\n",
      "Epoch 29/30\n",
      "114/114 - 20s - 180ms/step - accuracy: 0.9702 - loss: 0.0786\n",
      "Epoch 30/30\n",
      "114/114 - 20s - 178ms/step - accuracy: 0.9669 - loss: 0.0896\n"
     ]
    }
   ],
   "source": [
    "model = tf.keras.Model(inputs, outputs)\n",
    "# model.add(tf.keras.layers.Dense(10, activation = 'softmax'))\n",
    "#from tf.keras.optimizers.legacy import Adam\n",
    "#from tensorflow.keras.optimizers.legacy import Adam\n",
    "model.compile(optimizer='adam', loss=\"binary_crossentropy\", metrics=[\"accuracy\"] )\n",
    "\n",
    "model.summary()\n",
    "\n",
    "hist = model.fit(train_x, train_y, epochs=30, verbose=2)\n"
   ]
  },
  {
   "cell_type": "code",
   "execution_count": 22,
   "metadata": {
    "colab": {
     "base_uri": "https://localhost:8080/",
     "height": 472
    },
    "id": "UNAdmmMh-sZJ",
    "outputId": "de68b099-1c21-47d6-bccc-e73a012b3a22"
   },
   "outputs": [
    {
     "data": {
      "image/png": "[encoded data removed]",
      "text/plain": [
       "<Figure size 640x480 with 1 Axes>"
      ]
     },
     "metadata": {},
     "output_type": "display_data"
    }
   ],
   "source": [
    "import matplotlib.pyplot as plt\n",
    "\n",
    "\n",
    "def plot_hist(hist):\n",
    "    plt.plot(hist.history[\"accuracy\"])\n",
    "    #plt.plot(hist.history[\"val_accuracy\"])\n",
    "    plt.title(\"model accuracy\")\n",
    "    plt.ylabel(\"accuracy\")\n",
    "    plt.xlabel(\"epoch\")\n",
    "    plt.legend([\"train\", \"validation\"], loc=\"upper left\")\n",
    "    plt.show()\n",
    "\n",
    "\n",
    "plot_hist(hist)"
   ]
  },
  {
   "cell_type": "code",
   "execution_count": 23,
   "metadata": {
    "colab": {
     "base_uri": "https://localhost:8080/"
    },
    "id": "Z0dPT2vd-sZJ",
    "outputId": "bf53f05a-9d91-4c35-b540-756a2f4385f1"
   },
   "outputs": [
    {
     "name": "stdout",
     "output_type": "stream",
     "text": [
      "\u001b[1m6/6\u001b[0m \u001b[32m━━━━━━━━━━━━━━━━━━━━\u001b[0m\u001b[37m\u001b[0m \u001b[1m14s\u001b[0m 1s/step - accuracy: 0.8786 - loss: 0.6486\n",
      "Loss = 0.8557190299034119\n",
      "Test Accuracy = 0.8429319262504578\n"
     ]
    }
   ],
   "source": [
    "preds = model.evaluate(test_x, test_y)\n",
    "print (\"Loss = \" + str(preds[0]))\n",
    "print (\"Test Accuracy = \" + str(preds[1]))"
   ]
  }
 ],
 "metadata": {
  "accelerator": "GPU",
  "colab": {
   "gpuType": "T4",
   "provenance": []
  },
  "kernelspec": {
   "display_name": "Python 3.10 (tensorflow)",
   "language": "python",
   "name": "tensorflow"
  },
  "language_info": {
   "codemirror_mode": {
    "name": "ipython",
    "version": 3
   },
   "file_extension": ".py",
   "mimetype": "text/x-python",
   "name": "python",
   "nbconvert_exporter": "python",
   "pygments_lexer": "ipython3",
   "version": "3.10.9"
  }
 },
 "nbformat": 4,
 "nbformat_minor": 1
}
